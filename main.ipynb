{
 "cells": [
  {
   "cell_type": "code",
   "execution_count": 1,
   "id": "c6438cf6",
   "metadata": {},
   "outputs": [
    {
     "data": {
      "text/plain": [
       "<module 'lib.functions' from '/home/andre/QCS_Labs/Lab1/lib/functions.py'>"
      ]
     },
     "execution_count": 1,
     "metadata": {},
     "output_type": "execute_result"
    }
   ],
   "source": [
    "import lib.functions as fn\n",
    "import importlib\n",
    "importlib.reload(fn) "
   ]
  },
  {
   "cell_type": "code",
   "execution_count": 2,
   "id": "957892fa",
   "metadata": {},
   "outputs": [],
   "source": [
    "### CONSTANTS ###\n",
    "RESOLUTION = 80.955e-12  # [ps]\n",
    "DURATION = 30.0 #60.0  # Max window of duration (s)\n",
    "COINCIDENCE_WINDOW = 10e-9  # Window of coincidences in s\n",
    "DATA_PATH = '/home/andre/QCS_Labs/Lab1/data/'\n",
    "n_bins = 100\n",
    "\n",
    "### FILE'S NAME ###\n",
    "projectors = ['H', 'V', 'D', 'A', 'L', 'R']\n",
    "generated_states = ['diagonal', 'mixed', 'psi', 'right']"
   ]
  },
  {
   "cell_type": "code",
   "execution_count": 3,
   "id": "cebaaa52",
   "metadata": {},
   "outputs": [],
   "source": [
    "files = []\n",
    "df_names = []\n",
    "for generated_state in generated_states:\n",
    "    for projector in projectors:\n",
    "        files.append(f'{DATA_PATH}{generated_state}_measured_on_{projector}.txt')\n",
    "        df_names.append(f'{generated_state}_on_{projector}')\n"
   ]
  },
  {
   "cell_type": "code",
   "execution_count": null,
   "id": "d269676b",
   "metadata": {},
   "outputs": [
    {
     "name": "stdout",
     "output_type": "stream",
     "text": [
      "(file_list, df_names, resolution, coincidence_window, duration=60)\n"
     ]
    },
    {
     "ename": "",
     "evalue": "",
     "output_type": "error",
     "traceback": [
      "\u001b[1;31mThe Kernel crashed while executing code in the current cell or a previous cell. \n",
      "\u001b[1;31mPlease review the code in the cell(s) to identify a possible cause of the failure. \n",
      "\u001b[1;31mClick <a href='https://aka.ms/vscodeJupyterKernelCrash'>here</a> for more info. \n",
      "\u001b[1;31mView Jupyter <a href='command:jupyter.viewOutput'>log</a> for further details."
     ]
    }
   ],
   "source": [
    "import inspect\n",
    "print(inspect.signature (fn.find_coincidence_for_list))"
   ]
  },
  {
   "cell_type": "code",
   "execution_count": null,
   "id": "78d5c2dc",
   "metadata": {},
   "outputs": [],
   "source": [
    "coincidences_list, coincidences_num, delta_mean, delta_std = fn.find_coincidence_for_list(files,\n",
    "                                                                                          df_names,\n",
    "                                                                                          resolution=RESOLUTION,\n",
    "                                                                                          coincidence_window=COINCIDENCE_WINDOW\n",
    "                                                                                          )\n"
   ]
  }
 ],
 "metadata": {
  "kernelspec": {
   "display_name": "base",
   "language": "python",
   "name": "python3"
  },
  "language_info": {
   "codemirror_mode": {
    "name": "ipython",
    "version": 3
   },
   "file_extension": ".py",
   "mimetype": "text/x-python",
   "name": "python",
   "nbconvert_exporter": "python",
   "pygments_lexer": "ipython3",
   "version": "3.13.5"
  }
 },
 "nbformat": 4,
 "nbformat_minor": 5
}
