{
 "cells": [
  {
   "cell_type": "code",
   "execution_count": 24,
   "id": "c6438cf6",
   "metadata": {},
   "outputs": [
    {
     "data": {
      "text/plain": [
       "<module 'lib.functions' from 'c:\\\\Users\\\\andre\\\\OneDrive\\\\Documenti\\\\UniPd\\\\Quantum Cryptography\\\\Lab_1\\\\QCS_Lab1\\\\lib\\\\functions.py'>"
      ]
     },
     "execution_count": 24,
     "metadata": {},
     "output_type": "execute_result"
    }
   ],
   "source": [
    "import lib.functions as fn\n",
    "import importlib\n",
    "from pathlib import Path\n",
    "importlib.reload(fn) "
   ]
  },
  {
   "cell_type": "code",
   "execution_count": null,
   "id": "957892fa",
   "metadata": {},
   "outputs": [],
   "source": [
    "### CONSTANTS ###\n",
    "RESOLUTION = 80.955e-12  # [ps]\n",
    "DURATION = 30.0 #60.0  # Max window of duration (s)\n",
    "COINCIDENCE_WINDOW = 10e-9  # Window of coincidences in s\n",
    "n_bins = 100\n",
    "\n",
    "### FOLDERS ###\n",
    "BASE_DIR = Path.cwd()\n",
    "DATA_PATH = BASE_DIR / 'data'\n",
    "\n",
    "### FILE'S NAME ###\n",
    "projectors = ['H', 'V', 'D', 'A', 'L', 'R']\n",
    "generated_states = ['diagonal', 'mixed', 'psi', 'right']"
   ]
  },
  {
   "cell_type": "code",
   "execution_count": 29,
   "id": "cebaaa52",
   "metadata": {},
   "outputs": [],
   "source": [
    "files = []\n",
    "df_names = []\n",
    "for generated_state in generated_states:\n",
    "    for projector in projectors:\n",
    "        filename = f'{generated_state}_measured_on_{projector}.txt'\n",
    "        files.append(DATA_PATH / filename)\n",
    "        df_names.append(f'{generated_state}_on_{projector}')\n"
   ]
  },
  {
   "cell_type": "code",
   "execution_count": 30,
   "id": "d269676b",
   "metadata": {},
   "outputs": [
    {
     "name": "stdout",
     "output_type": "stream",
     "text": [
      "(file_list, df_names, resolution, coincidence_window, duration=60)\n"
     ]
    }
   ],
   "source": [
    "import inspect\n",
    "print(inspect.signature (fn.find_coincidence_for_list))"
   ]
  },
  {
   "cell_type": "code",
   "execution_count": null,
   "id": "78d5c2dc",
   "metadata": {},
   "outputs": [],
   "source": [
    "coincidences_list, coincidences_num, delta_mean, delta_std = fn.find_coincidence_for_list(files,\n",
    "                                                                                          df_names,\n",
    "                                                                                          resolution=RESOLUTION,\n",
    "                                                                                          coincidence_window=COINCIDENCE_WINDOW\n",
    "                                                                                          )\n"
   ]
  }
 ],
 "metadata": {
  "kernelspec": {
   "display_name": "venv",
   "language": "python",
   "name": "python3"
  },
  "language_info": {
   "codemirror_mode": {
    "name": "ipython",
    "version": 3
   },
   "file_extension": ".py",
   "mimetype": "text/x-python",
   "name": "python",
   "nbconvert_exporter": "python",
   "pygments_lexer": "ipython3",
   "version": "3.13.0"
  }
 },
 "nbformat": 4,
 "nbformat_minor": 5
}
